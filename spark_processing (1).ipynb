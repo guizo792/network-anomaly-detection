{
 "cells": [
  {
   "cell_type": "markdown",
   "id": "eeaa2f89-bb4d-43f7-9464-cf9c705c313c",
   "metadata": {},
   "source": [
    "#"
   ]
  },
  {
   "cell_type": "code",
   "execution_count": 1,
   "id": "98433466-af38-4e2b-9370-4eff215afed7",
   "metadata": {},
   "outputs": [
    {
     "name": "stdout",
     "output_type": "stream",
     "text": [
      "This is spark <pyspark.sql.session.SparkSession object at 0x7f8c7fb16210>\n"
     ]
    }
   ],
   "source": [
    "from pyspark.sql import SparkSession\n",
    "from pyspark.sql.types import StructType, StructField, StringType, IntegerType, DoubleType\n",
    "import pyspark.sql.functions as funcs\n",
    "from pyspark.ml.linalg import Vectors, VectorUDT\n",
    "from pyspark.sql.types import *\n",
    "spark = SparkSession.builder.appName(\"ReadFromTxt\").getOrCreate()\n",
    "print(\"This is spark\", spark)"
   ]
  },
  {
   "cell_type": "code",
   "execution_count": 2,
   "id": "364f6d4b-bf31-4171-92fb-96b6c5ea8571",
   "metadata": {},
   "outputs": [
    {
     "data": {
      "text/html": [
       "<div>\n",
       "<style scoped>\n",
       "    .dataframe tbody tr th:only-of-type {\n",
       "        vertical-align: middle;\n",
       "    }\n",
       "\n",
       "    .dataframe tbody tr th {\n",
       "        vertical-align: top;\n",
       "    }\n",
       "\n",
       "    .dataframe thead th {\n",
       "        text-align: right;\n",
       "    }\n",
       "</style>\n",
       "<table border=\"1\" class=\"dataframe\">\n",
       "  <thead>\n",
       "    <tr style=\"text-align: right;\">\n",
       "      <th></th>\n",
       "      <th>duration</th>\n",
       "      <th>srcbytes</th>\n",
       "      <th>dstbytes</th>\n",
       "      <th>land</th>\n",
       "      <th>wrongfragment</th>\n",
       "      <th>urgent</th>\n",
       "      <th>hot</th>\n",
       "      <th>numfailedlogins</th>\n",
       "      <th>loggedin</th>\n",
       "      <th>numcompromised</th>\n",
       "      <th>...</th>\n",
       "      <th>dsthostsrvcount</th>\n",
       "      <th>dsthostsamesrvrate</th>\n",
       "      <th>dsthostdiffsrvrate</th>\n",
       "      <th>dsthostsamesrcportrate</th>\n",
       "      <th>dsthostsrvdiffhostrate</th>\n",
       "      <th>dsthostserrorrate</th>\n",
       "      <th>dsthostsrvserrorrate</th>\n",
       "      <th>dsthostrerrorrate</th>\n",
       "      <th>dsthostsrvrerrorrate</th>\n",
       "      <th>lastflag</th>\n",
       "    </tr>\n",
       "  </thead>\n",
       "  <tbody>\n",
       "    <tr>\n",
       "      <th>count</th>\n",
       "      <td>125973.00000</td>\n",
       "      <td>1.259730e+05</td>\n",
       "      <td>1.259730e+05</td>\n",
       "      <td>125973.000000</td>\n",
       "      <td>125973.000000</td>\n",
       "      <td>125973.000000</td>\n",
       "      <td>125973.000000</td>\n",
       "      <td>125973.000000</td>\n",
       "      <td>125973.000000</td>\n",
       "      <td>125973.000000</td>\n",
       "      <td>...</td>\n",
       "      <td>125973.000000</td>\n",
       "      <td>125973.000000</td>\n",
       "      <td>125973.000000</td>\n",
       "      <td>125973.000000</td>\n",
       "      <td>125973.000000</td>\n",
       "      <td>125973.000000</td>\n",
       "      <td>125973.000000</td>\n",
       "      <td>125973.000000</td>\n",
       "      <td>125973.000000</td>\n",
       "      <td>125973.000000</td>\n",
       "    </tr>\n",
       "    <tr>\n",
       "      <th>mean</th>\n",
       "      <td>287.14465</td>\n",
       "      <td>4.556674e+04</td>\n",
       "      <td>1.977911e+04</td>\n",
       "      <td>0.000198</td>\n",
       "      <td>0.022687</td>\n",
       "      <td>0.000111</td>\n",
       "      <td>0.204409</td>\n",
       "      <td>0.001222</td>\n",
       "      <td>0.395736</td>\n",
       "      <td>0.279250</td>\n",
       "      <td>...</td>\n",
       "      <td>115.653005</td>\n",
       "      <td>0.521242</td>\n",
       "      <td>0.082951</td>\n",
       "      <td>0.148379</td>\n",
       "      <td>0.032542</td>\n",
       "      <td>0.284452</td>\n",
       "      <td>0.278485</td>\n",
       "      <td>0.118832</td>\n",
       "      <td>0.120240</td>\n",
       "      <td>19.504060</td>\n",
       "    </tr>\n",
       "    <tr>\n",
       "      <th>std</th>\n",
       "      <td>2604.51531</td>\n",
       "      <td>5.870331e+06</td>\n",
       "      <td>4.021269e+06</td>\n",
       "      <td>0.014086</td>\n",
       "      <td>0.253530</td>\n",
       "      <td>0.014366</td>\n",
       "      <td>2.149968</td>\n",
       "      <td>0.045239</td>\n",
       "      <td>0.489010</td>\n",
       "      <td>23.942042</td>\n",
       "      <td>...</td>\n",
       "      <td>110.702741</td>\n",
       "      <td>0.448949</td>\n",
       "      <td>0.188922</td>\n",
       "      <td>0.308997</td>\n",
       "      <td>0.112564</td>\n",
       "      <td>0.444784</td>\n",
       "      <td>0.445669</td>\n",
       "      <td>0.306557</td>\n",
       "      <td>0.319459</td>\n",
       "      <td>2.291503</td>\n",
       "    </tr>\n",
       "    <tr>\n",
       "      <th>min</th>\n",
       "      <td>0.00000</td>\n",
       "      <td>0.000000e+00</td>\n",
       "      <td>0.000000e+00</td>\n",
       "      <td>0.000000</td>\n",
       "      <td>0.000000</td>\n",
       "      <td>0.000000</td>\n",
       "      <td>0.000000</td>\n",
       "      <td>0.000000</td>\n",
       "      <td>0.000000</td>\n",
       "      <td>0.000000</td>\n",
       "      <td>...</td>\n",
       "      <td>0.000000</td>\n",
       "      <td>0.000000</td>\n",
       "      <td>0.000000</td>\n",
       "      <td>0.000000</td>\n",
       "      <td>0.000000</td>\n",
       "      <td>0.000000</td>\n",
       "      <td>0.000000</td>\n",
       "      <td>0.000000</td>\n",
       "      <td>0.000000</td>\n",
       "      <td>0.000000</td>\n",
       "    </tr>\n",
       "    <tr>\n",
       "      <th>25%</th>\n",
       "      <td>0.00000</td>\n",
       "      <td>0.000000e+00</td>\n",
       "      <td>0.000000e+00</td>\n",
       "      <td>0.000000</td>\n",
       "      <td>0.000000</td>\n",
       "      <td>0.000000</td>\n",
       "      <td>0.000000</td>\n",
       "      <td>0.000000</td>\n",
       "      <td>0.000000</td>\n",
       "      <td>0.000000</td>\n",
       "      <td>...</td>\n",
       "      <td>10.000000</td>\n",
       "      <td>0.050000</td>\n",
       "      <td>0.000000</td>\n",
       "      <td>0.000000</td>\n",
       "      <td>0.000000</td>\n",
       "      <td>0.000000</td>\n",
       "      <td>0.000000</td>\n",
       "      <td>0.000000</td>\n",
       "      <td>0.000000</td>\n",
       "      <td>18.000000</td>\n",
       "    </tr>\n",
       "    <tr>\n",
       "      <th>50%</th>\n",
       "      <td>0.00000</td>\n",
       "      <td>4.400000e+01</td>\n",
       "      <td>0.000000e+00</td>\n",
       "      <td>0.000000</td>\n",
       "      <td>0.000000</td>\n",
       "      <td>0.000000</td>\n",
       "      <td>0.000000</td>\n",
       "      <td>0.000000</td>\n",
       "      <td>0.000000</td>\n",
       "      <td>0.000000</td>\n",
       "      <td>...</td>\n",
       "      <td>63.000000</td>\n",
       "      <td>0.510000</td>\n",
       "      <td>0.020000</td>\n",
       "      <td>0.000000</td>\n",
       "      <td>0.000000</td>\n",
       "      <td>0.000000</td>\n",
       "      <td>0.000000</td>\n",
       "      <td>0.000000</td>\n",
       "      <td>0.000000</td>\n",
       "      <td>20.000000</td>\n",
       "    </tr>\n",
       "    <tr>\n",
       "      <th>75%</th>\n",
       "      <td>0.00000</td>\n",
       "      <td>2.760000e+02</td>\n",
       "      <td>5.160000e+02</td>\n",
       "      <td>0.000000</td>\n",
       "      <td>0.000000</td>\n",
       "      <td>0.000000</td>\n",
       "      <td>0.000000</td>\n",
       "      <td>0.000000</td>\n",
       "      <td>1.000000</td>\n",
       "      <td>0.000000</td>\n",
       "      <td>...</td>\n",
       "      <td>255.000000</td>\n",
       "      <td>1.000000</td>\n",
       "      <td>0.070000</td>\n",
       "      <td>0.060000</td>\n",
       "      <td>0.020000</td>\n",
       "      <td>1.000000</td>\n",
       "      <td>1.000000</td>\n",
       "      <td>0.000000</td>\n",
       "      <td>0.000000</td>\n",
       "      <td>21.000000</td>\n",
       "    </tr>\n",
       "    <tr>\n",
       "      <th>max</th>\n",
       "      <td>42908.00000</td>\n",
       "      <td>1.379964e+09</td>\n",
       "      <td>1.309937e+09</td>\n",
       "      <td>1.000000</td>\n",
       "      <td>3.000000</td>\n",
       "      <td>3.000000</td>\n",
       "      <td>77.000000</td>\n",
       "      <td>5.000000</td>\n",
       "      <td>1.000000</td>\n",
       "      <td>7479.000000</td>\n",
       "      <td>...</td>\n",
       "      <td>255.000000</td>\n",
       "      <td>1.000000</td>\n",
       "      <td>1.000000</td>\n",
       "      <td>1.000000</td>\n",
       "      <td>1.000000</td>\n",
       "      <td>1.000000</td>\n",
       "      <td>1.000000</td>\n",
       "      <td>1.000000</td>\n",
       "      <td>1.000000</td>\n",
       "      <td>21.000000</td>\n",
       "    </tr>\n",
       "  </tbody>\n",
       "</table>\n",
       "<p>8 rows × 39 columns</p>\n",
       "</div>"
      ],
      "text/plain": [
       "           duration      srcbytes      dstbytes           land  wrongfragment  \\\n",
       "count  125973.00000  1.259730e+05  1.259730e+05  125973.000000  125973.000000   \n",
       "mean      287.14465  4.556674e+04  1.977911e+04       0.000198       0.022687   \n",
       "std      2604.51531  5.870331e+06  4.021269e+06       0.014086       0.253530   \n",
       "min         0.00000  0.000000e+00  0.000000e+00       0.000000       0.000000   \n",
       "25%         0.00000  0.000000e+00  0.000000e+00       0.000000       0.000000   \n",
       "50%         0.00000  4.400000e+01  0.000000e+00       0.000000       0.000000   \n",
       "75%         0.00000  2.760000e+02  5.160000e+02       0.000000       0.000000   \n",
       "max     42908.00000  1.379964e+09  1.309937e+09       1.000000       3.000000   \n",
       "\n",
       "              urgent            hot  numfailedlogins       loggedin  \\\n",
       "count  125973.000000  125973.000000    125973.000000  125973.000000   \n",
       "mean        0.000111       0.204409         0.001222       0.395736   \n",
       "std         0.014366       2.149968         0.045239       0.489010   \n",
       "min         0.000000       0.000000         0.000000       0.000000   \n",
       "25%         0.000000       0.000000         0.000000       0.000000   \n",
       "50%         0.000000       0.000000         0.000000       0.000000   \n",
       "75%         0.000000       0.000000         0.000000       1.000000   \n",
       "max         3.000000      77.000000         5.000000       1.000000   \n",
       "\n",
       "       numcompromised  ...  dsthostsrvcount  dsthostsamesrvrate  \\\n",
       "count   125973.000000  ...    125973.000000       125973.000000   \n",
       "mean         0.279250  ...       115.653005            0.521242   \n",
       "std         23.942042  ...       110.702741            0.448949   \n",
       "min          0.000000  ...         0.000000            0.000000   \n",
       "25%          0.000000  ...        10.000000            0.050000   \n",
       "50%          0.000000  ...        63.000000            0.510000   \n",
       "75%          0.000000  ...       255.000000            1.000000   \n",
       "max       7479.000000  ...       255.000000            1.000000   \n",
       "\n",
       "       dsthostdiffsrvrate  dsthostsamesrcportrate  dsthostsrvdiffhostrate  \\\n",
       "count       125973.000000           125973.000000           125973.000000   \n",
       "mean             0.082951                0.148379                0.032542   \n",
       "std              0.188922                0.308997                0.112564   \n",
       "min              0.000000                0.000000                0.000000   \n",
       "25%              0.000000                0.000000                0.000000   \n",
       "50%              0.020000                0.000000                0.000000   \n",
       "75%              0.070000                0.060000                0.020000   \n",
       "max              1.000000                1.000000                1.000000   \n",
       "\n",
       "       dsthostserrorrate  dsthostsrvserrorrate  dsthostrerrorrate  \\\n",
       "count      125973.000000         125973.000000      125973.000000   \n",
       "mean            0.284452              0.278485           0.118832   \n",
       "std             0.444784              0.445669           0.306557   \n",
       "min             0.000000              0.000000           0.000000   \n",
       "25%             0.000000              0.000000           0.000000   \n",
       "50%             0.000000              0.000000           0.000000   \n",
       "75%             1.000000              1.000000           0.000000   \n",
       "max             1.000000              1.000000           1.000000   \n",
       "\n",
       "       dsthostsrvrerrorrate       lastflag  \n",
       "count         125973.000000  125973.000000  \n",
       "mean               0.120240      19.504060  \n",
       "std                0.319459       2.291503  \n",
       "min                0.000000       0.000000  \n",
       "25%                0.000000      18.000000  \n",
       "50%                0.000000      20.000000  \n",
       "75%                0.000000      21.000000  \n",
       "max                1.000000      21.000000  \n",
       "\n",
       "[8 rows x 39 columns]"
      ]
     },
     "execution_count": 2,
     "metadata": {},
     "output_type": "execute_result"
    }
   ],
   "source": [
    "import pandas as pd\n",
    "# reading ds with pandas\n",
    "df = pd.read_csv(\"./Train.txt\",sep=\",\",names=[\"duration\",\"protocoltype\",\"service\",\"flag\",\"srcbytes\",\"dstbytes\",\"land\", \"wrongfragment\",\"urgent\",\"hot\",\"numfailedlogins\",\"loggedin\", \"numcompromised\",\"rootshell\",\"suattempted\",\"numroot\",\"numfilecreations\", \"numshells\",\"numaccessfiles\",\"numoutboundcmds\",\"ishostlogin\",\n",
    "\"isguestlogin\",\"count\",\"srvcount\",\"serrorrate\", \"srvserrorrate\",\n",
    "\"rerrorrate\",\"srvrerrorrate\",\"samesrvrate\", \"diffsrvrate\", \"srvdiffhostrate\",\"dsthostcount\",\"dsthostsrvcount\",\"dsthostsamesrvrate\", \"dsthostdiffsrvrate\",\"dsthostsamesrcportrate\",\n",
    "\"dsthostsrvdiffhostrate\",\"dsthostserrorrate\",\"dsthostsrvserrorrate\",\n",
    "\"dsthostrerrorrate\",\"dsthostsrvrerrorrate\",\"attack\", \"lastflag\"])\n",
    "df.head()\n",
    "\n",
    "# print(\"the dataset head from text file\")\n",
    "# print(df);\n",
    "\n",
    "df.shape\n",
    "df.describe()\n"
   ]
  },
  {
   "cell_type": "code",
   "execution_count": 3,
   "id": "e72b0de0-ad52-46f7-a3d7-011d59e1e741",
   "metadata": {},
   "outputs": [
    {
     "name": "stdout",
     "output_type": "stream",
     "text": [
      "root\n",
      " |-- duration: integer (nullable = true)\n",
      " |-- src_bytes: integer (nullable = true)\n",
      " |-- dst_bytes: integer (nullable = true)\n",
      " |-- land: integer (nullable = true)\n",
      " |-- wrong_fragment: integer (nullable = true)\n",
      " |-- urgent: integer (nullable = true)\n",
      " |-- hot: integer (nullable = true)\n",
      " |-- num_failed_logins: integer (nullable = true)\n",
      " |-- logged_in: integer (nullable = true)\n",
      " |-- num_compromised: integer (nullable = true)\n",
      " |-- root_shell: integer (nullable = true)\n",
      " |-- su_attempted: integer (nullable = true)\n",
      " |-- num_root: integer (nullable = true)\n",
      " |-- num_file_creations: integer (nullable = true)\n",
      " |-- num_shells: integer (nullable = true)\n",
      " |-- num_access_files: integer (nullable = true)\n",
      " |-- num_outbound_cmds: integer (nullable = true)\n",
      " |-- is_host_login: integer (nullable = true)\n",
      " |-- is_guest_login: integer (nullable = true)\n",
      " |-- count: integer (nullable = true)\n",
      " |-- srv_count: integer (nullable = true)\n",
      " |-- serror_rate: double (nullable = true)\n",
      " |-- srv_serror_rate: double (nullable = true)\n",
      " |-- rerror_rate: double (nullable = true)\n",
      " |-- srv_rerror_rate: double (nullable = true)\n",
      " |-- same_srv_rate: double (nullable = true)\n",
      " |-- diff_srv_rate: double (nullable = true)\n",
      " |-- srv_diff_host_rate: double (nullable = true)\n",
      " |-- dst_host_count: integer (nullable = true)\n",
      " |-- dst_host_srv_count: integer (nullable = true)\n",
      " |-- dst_host_same_srv_rate: double (nullable = true)\n",
      " |-- dst_host_diff_srv_rate: double (nullable = true)\n",
      " |-- dst_host_same_src_port_rate: double (nullable = true)\n",
      " |-- dst_host_srv_diff_host_rate: double (nullable = true)\n",
      " |-- dst_host_serror_rate: double (nullable = true)\n",
      " |-- dst_host_srv_serror_rate: double (nullable = true)\n",
      " |-- dst_host_rerror_rate: double (nullable = true)\n",
      " |-- dst_host_srv_rerror_rate: double (nullable = true)\n",
      " |-- status: string (nullable = true)\n",
      "\n",
      "+--------+---------+---------+----+--------------+------+---+-----------------+---------+---------------+----------+------------+--------+------------------+----------+----------------+-----------------+-------------+--------------+-----+---------+-----------+---------------+-----------+---------------+-------------+-------------+------------------+--------------+------------------+----------------------+----------------------+---------------------------+---------------------------+--------------------+------------------------+--------------------+------------------------+-------+\n",
      "|duration|src_bytes|dst_bytes|land|wrong_fragment|urgent|hot|num_failed_logins|logged_in|num_compromised|root_shell|su_attempted|num_root|num_file_creations|num_shells|num_access_files|num_outbound_cmds|is_host_login|is_guest_login|count|srv_count|serror_rate|srv_serror_rate|rerror_rate|srv_rerror_rate|same_srv_rate|diff_srv_rate|srv_diff_host_rate|dst_host_count|dst_host_srv_count|dst_host_same_srv_rate|dst_host_diff_srv_rate|dst_host_same_src_port_rate|dst_host_srv_diff_host_rate|dst_host_serror_rate|dst_host_srv_serror_rate|dst_host_rerror_rate|dst_host_srv_rerror_rate| status|\n",
      "+--------+---------+---------+----+--------------+------+---+-----------------+---------+---------------+----------+------------+--------+------------------+----------+----------------+-----------------+-------------+--------------+-----+---------+-----------+---------------+-----------+---------------+-------------+-------------+------------------+--------------+------------------+----------------------+----------------------+---------------------------+---------------------------+--------------------+------------------------+--------------------+------------------------+-------+\n",
      "|       0|      491|        0|   0|             0|     0|  0|                0|        0|              0|         0|           0|       0|                 0|         0|               0|                0|            0|             0|    2|        2|        0.0|            0.0|        0.0|            0.0|          1.0|          0.0|               0.0|           150|                25|                  0.17|                  0.03|                       0.17|                        0.0|                 0.0|                     0.0|                0.05|                     0.0| normal|\n",
      "|       0|      146|        0|   0|             0|     0|  0|                0|        0|              0|         0|           0|       0|                 0|         0|               0|                0|            0|             0|   13|        1|        0.0|            0.0|        0.0|            0.0|         0.08|         0.15|               0.0|           255|                 1|                   0.0|                   0.6|                       0.88|                        0.0|                 0.0|                     0.0|                 0.0|                     0.0| normal|\n",
      "|       0|        0|        0|   0|             0|     0|  0|                0|        0|              0|         0|           0|       0|                 0|         0|               0|                0|            0|             0|  123|        6|        1.0|            1.0|        0.0|            0.0|         0.05|         0.07|               0.0|           255|                26|                   0.1|                  0.05|                        0.0|                        0.0|                 1.0|                     1.0|                 0.0|                     0.0|anomaly|\n",
      "|       0|      232|     8153|   0|             0|     0|  0|                0|        1|              0|         0|           0|       0|                 0|         0|               0|                0|            0|             0|    5|        5|        0.2|            0.2|        0.0|            0.0|          1.0|          0.0|               0.0|            30|               255|                   1.0|                   0.0|                       0.03|                       0.04|                0.03|                    0.01|                 0.0|                    0.01| normal|\n",
      "|       0|      199|      420|   0|             0|     0|  0|                0|        1|              0|         0|           0|       0|                 0|         0|               0|                0|            0|             0|   30|       32|        0.0|            0.0|        0.0|            0.0|          1.0|          0.0|              0.09|           255|               255|                   1.0|                   0.0|                        0.0|                        0.0|                 0.0|                     0.0|                 0.0|                     0.0| normal|\n",
      "+--------+---------+---------+----+--------------+------+---+-----------------+---------+---------------+----------+------------+--------+------------------+----------+----------------+-----------------+-------------+--------------+-----+---------+-----------+---------------+-----------+---------------+-------------+-------------+------------------+--------------+------------------+----------------------+----------------------+---------------------------+---------------------------+--------------------+------------------------+--------------------+------------------------+-------+\n",
      "only showing top 5 rows\n",
      "\n"
     ]
    }
   ],
   "source": [
    "# Define the schema for the KDDCUP'99 dataset\n",
    "schema = StructType([\n",
    "    StructField(\"duration\", IntegerType(), True),\n",
    "    StructField(\"protocoltype\", StringType(), True),\n",
    "    StructField(\"service\", StringType(), True),\n",
    "    StructField(\"flag\", StringType(), True),\n",
    "    StructField(\"srcbytes\", IntegerType(), True),\n",
    "    StructField(\"dstbytes\", IntegerType(), True),\n",
    "    StructField(\"land\", IntegerType(), True),\n",
    "    StructField(\"wrongfragment\", IntegerType(), True),\n",
    "    StructField(\"urgent\", IntegerType(), True),\n",
    "    StructField(\"hot\", IntegerType(), True),\n",
    "    StructField(\"numfailedlogins\", IntegerType(), True),\n",
    "    StructField(\"loggedin\", IntegerType(), True),\n",
    "    StructField(\"numcompromised\", IntegerType(), True),\n",
    "    StructField(\"rootshell\", IntegerType(), True),\n",
    "    StructField(\"suattempted\", IntegerType(), True),\n",
    "    StructField(\"numroot\", IntegerType(), True),\n",
    "    StructField(\"numfilecreations\", IntegerType(), True),\n",
    "    StructField(\"numshells\", IntegerType(), True),\n",
    "    StructField(\"numaccessfiles\", IntegerType(), True),\n",
    "    StructField(\"numoutboundcmds\", IntegerType(), True),\n",
    "    StructField(\"ishostlogin\", IntegerType(), True),\n",
    "    StructField(\"isguestlogin\", IntegerType(), True),\n",
    "    StructField(\"count\", IntegerType(), True),\n",
    "    StructField(\"srvcount\", IntegerType(), True),\n",
    "    StructField(\"serrorrate\", DoubleType(), True),\n",
    "    StructField(\"srvserrorrate\", DoubleType(), True),\n",
    "    StructField(\"rerrorrate\", DoubleType(), True),\n",
    "    StructField(\"srvrerrorrate\", DoubleType(), True),\n",
    "    StructField(\"samesrvrate\", DoubleType(), True),\n",
    "    StructField(\"diffsrvrate\", DoubleType(), True),\n",
    "    StructField(\"srvdiffhostrate\", DoubleType(), True),\n",
    "    StructField(\"dsthostcount\", IntegerType(), True),\n",
    "    StructField(\"dsthostsrvcount\", IntegerType(), True),\n",
    "    StructField(\"dsthostsamesrvrate\", DoubleType(), True),\n",
    "    StructField(\"dsthostdiffsrvrate\", DoubleType(), True),\n",
    "    StructField(\"dsthostsamesrcportrate\", DoubleType(), True),\n",
    "    StructField(\"dsthostsrvdiffhostrate\", DoubleType(), True),\n",
    "    StructField(\"dsthostserrorrate\", DoubleType(), True),\n",
    "    StructField(\"dsthostsrvserrorrate\", DoubleType(), True),\n",
    "    StructField(\"dsthostrerrorrate\", DoubleType(), True),\n",
    "    StructField(\"dsthostsrvrerrorrate\", DoubleType(), True),\n",
    "    StructField(\"attack\", StringType(), True),\n",
    "    StructField(\"lastflag\", IntegerType(), True)\n",
    "])\n",
    "\n",
    "column_names =[\"duration\",\"protocoltype\",\"service\",\"flag\",\"srcbytes\",\"dstbytes\",\"land\", \"wrongfragment\",\"urgent\",\"hot\",\"numfailedlogins\",\"loggedin\", \"numcompromised\",\"rootshell\",\"suattempted\",\"numroot\",\"numfilecreations\", \"numshells\",\"numaccessfiles\",\"numoutboundcmds\",\"ishostlogin\",\n",
    "\"isguestlogin\",\"count\",\"srvcount\",\"serrorrate\", \"srvserrorrate\",\n",
    "\"rerrorrate\",\"srvrerrorrate\",\"samesrvrate\", \"diffsrvrate\", \"srvdiffhostrate\",\"dsthostcount\",\"dsthostsrvcount\",\"dsthostsamesrvrate\", \"dsthostdiffsrvrate\",\"dsthostsamesrcportrate\",\n",
    "\"dsthostsrvdiffhostrate\",\"dsthostserrorrate\",\"dsthostsrvserrorrate\",\n",
    "\"dsthostrerrorrate\",\"dsthostsrvrerrorrate\",\"attack\", \"lastflag\"]\n",
    "\n",
    "\n",
    "df2 = spark.read \\\n",
    "            .format(\"csv\")\\\n",
    "            .option(\"header\", True)\\\n",
    "            .option(\"sep\", \",\")\\\n",
    "            .option(\"inferSchema\", \"True\")\\\n",
    "            .load(\"./TrainDf.csv\")\n",
    "\n",
    "\n",
    "df2.printSchema()\n",
    "df2.show(5)"
   ]
  },
  {
   "cell_type": "code",
   "execution_count": 4,
   "id": "3333e864-8953-4ebf-851d-ad133d260fca",
   "metadata": {},
   "outputs": [],
   "source": [
    "from pyspark.ml.feature import VectorAssembler, StringIndexer\n",
    "from pyspark.ml import Pipeline"
   ]
  },
  {
   "cell_type": "code",
   "execution_count": 5,
   "id": "3073ce9f-d49d-4459-abd7-44794b8078a8",
   "metadata": {},
   "outputs": [
    {
     "name": "stdout",
     "output_type": "stream",
     "text": [
      "['duration', 'src_bytes', 'dst_bytes', 'land', 'wrong_fragment', 'urgent', 'hot', 'num_failed_logins', 'logged_in', 'num_compromised', 'root_shell', 'su_attempted', 'num_root', 'num_file_creations', 'num_shells', 'num_access_files', 'num_outbound_cmds', 'is_host_login', 'is_guest_login', 'count', 'srv_count', 'serror_rate', 'srv_serror_rate', 'rerror_rate', 'srv_rerror_rate', 'same_srv_rate', 'diff_srv_rate', 'srv_diff_host_rate', 'dst_host_count', 'dst_host_srv_count', 'dst_host_same_srv_rate', 'dst_host_diff_srv_rate', 'dst_host_same_src_port_rate', 'dst_host_srv_diff_host_rate', 'dst_host_serror_rate', 'dst_host_srv_serror_rate', 'dst_host_rerror_rate', 'dst_host_srv_rerror_rate']\n"
     ]
    }
   ],
   "source": [
    "feature_cols = df2.columns[:-1]\n",
    "print(feature_cols)"
   ]
  },
  {
   "cell_type": "code",
   "execution_count": 6,
   "id": "ee8d6c0a-8b04-4e74-8db2-5e136e1afcce",
   "metadata": {},
   "outputs": [
    {
     "name": "stdout",
     "output_type": "stream",
     "text": [
      "StringIndexer_f98eca8b0b5f\n"
     ]
    }
   ],
   "source": [
    "label_indexer = StringIndexer(inputCol = \"status\", outputCol = \"label\")\n",
    "\n",
    "print(label_indexer)"
   ]
  },
  {
   "cell_type": "code",
   "execution_count": 7,
   "id": "4e336484-36e0-47e0-8e9f-099b10f4cea4",
   "metadata": {},
   "outputs": [
    {
     "name": "stdout",
     "output_type": "stream",
     "text": [
      "VectorAssembler_8c630b3e03d0\n"
     ]
    }
   ],
   "source": [
    "assembler = VectorAssembler(inputCols = feature_cols, outputCol = \"features\")\n",
    "\n",
    "print(assembler)"
   ]
  },
  {
   "cell_type": "code",
   "execution_count": 8,
   "id": "09bc0af4-cb59-45ed-8d0f-6d7c4993e4e1",
   "metadata": {},
   "outputs": [],
   "source": [
    "pipe = Pipeline(stages=[assembler, label_indexer])\n",
    "pipe_model = pipe.fit(df2)\n",
    "stages = pipe_model.stages\n"
   ]
  },
  {
   "cell_type": "code",
   "execution_count": 9,
   "id": "3e35cbaf-0c93-4d95-95c8-6a524b05bd1c",
   "metadata": {},
   "outputs": [
    {
     "name": "stdout",
     "output_type": "stream",
     "text": [
      "DataFrame[duration: int, src_bytes: int, dst_bytes: int, land: int, wrong_fragment: int, urgent: int, hot: int, num_failed_logins: int, logged_in: int, num_compromised: int, root_shell: int, su_attempted: int, num_root: int, num_file_creations: int, num_shells: int, num_access_files: int, num_outbound_cmds: int, is_host_login: int, is_guest_login: int, count: int, srv_count: int, serror_rate: double, srv_serror_rate: double, rerror_rate: double, srv_rerror_rate: double, same_srv_rate: double, diff_srv_rate: double, srv_diff_host_rate: double, dst_host_count: int, dst_host_srv_count: int, dst_host_same_srv_rate: double, dst_host_diff_srv_rate: double, dst_host_same_src_port_rate: double, dst_host_srv_diff_host_rate: double, dst_host_serror_rate: double, dst_host_srv_serror_rate: double, dst_host_rerror_rate: double, dst_host_srv_rerror_rate: double, status: string, features: vector, label: double]\n",
      "DataFrame[features: vector, label: double]\n"
     ]
    }
   ],
   "source": [
    "data = pipe_model.transform(df2)\n",
    "print(data)\n",
    "\n",
    "data = data.select(\"features\",\"label\")\n",
    "print(data)"
   ]
  },
  {
   "cell_type": "code",
   "execution_count": 10,
   "id": "f6ca3c02-36eb-48a2-9208-37784d12ebe3",
   "metadata": {},
   "outputs": [
    {
     "name": "stdout",
     "output_type": "stream",
     "text": [
      "88265\n",
      "37708\n",
      "+-------+-------------------+\n",
      "|summary|              label|\n",
      "+-------+-------------------+\n",
      "|  count|              88265|\n",
      "|   mean| 0.4652240412394494|\n",
      "| stddev|0.49879199211939523|\n",
      "|    min|                0.0|\n",
      "|    max|                1.0|\n",
      "+-------+-------------------+\n",
      "\n",
      "+-------+-------------------+\n",
      "|summary|              label|\n",
      "+-------+-------------------+\n",
      "|  count|              37708|\n",
      "|   mean|0.46586931155192535|\n",
      "| stddev| 0.4988403504942005|\n",
      "|    min|                0.0|\n",
      "|    max|                1.0|\n",
      "+-------+-------------------+\n",
      "\n"
     ]
    }
   ],
   "source": [
    "train, test = data.randomSplit([0.70, 0.30])\n",
    "\n",
    "print(train.count())\n",
    "print(test.count())\n",
    "# desc the train and test data\n",
    "train.describe().show()\n",
    "test.describe().show()"
   ]
  },
  {
   "cell_type": "code",
   "execution_count": 11,
   "id": "124d3fda-4cc0-4d1c-9eeb-b4ac702d61df",
   "metadata": {},
   "outputs": [],
   "source": [
    "from pyspark.ml.evaluation import MulticlassClassificationEvaluator\n",
    "from pyspark.ml.classification import DecisionTreeClassifier"
   ]
  },
  {
   "cell_type": "code",
   "execution_count": 12,
   "id": "9f46c73a-2812-4540-b3a0-b093316cb077",
   "metadata": {},
   "outputs": [
    {
     "data": {
      "text/html": [
       "<div>\n",
       "<style scoped>\n",
       "    .dataframe tbody tr th:only-of-type {\n",
       "        vertical-align: middle;\n",
       "    }\n",
       "\n",
       "    .dataframe tbody tr th {\n",
       "        vertical-align: top;\n",
       "    }\n",
       "\n",
       "    .dataframe thead th {\n",
       "        text-align: right;\n",
       "    }\n",
       "</style>\n",
       "<table border=\"1\" class=\"dataframe\">\n",
       "  <thead>\n",
       "    <tr style=\"text-align: right;\">\n",
       "      <th></th>\n",
       "      <th>features</th>\n",
       "      <th>label</th>\n",
       "      <th>rawPrediction</th>\n",
       "      <th>probability</th>\n",
       "      <th>prediction</th>\n",
       "    </tr>\n",
       "  </thead>\n",
       "  <tbody>\n",
       "    <tr>\n",
       "      <th>0</th>\n",
       "      <td>(583.0, 848.0, 25323.0, 0.0, 0.0, 0.0, 1.0, 0....</td>\n",
       "      <td>0.0</td>\n",
       "      <td>[643.0, 39.0]</td>\n",
       "      <td>[0.9428152492668622, 0.05718475073313783]</td>\n",
       "      <td>0.0</td>\n",
       "    </tr>\n",
       "    <tr>\n",
       "      <th>1</th>\n",
       "      <td>(179.0, 1559.0, 2855.0, 0.0, 0.0, 0.0, 3.0, 0....</td>\n",
       "      <td>1.0</td>\n",
       "      <td>[643.0, 39.0]</td>\n",
       "      <td>[0.9428152492668622, 0.05718475073313783]</td>\n",
       "      <td>0.0</td>\n",
       "    </tr>\n",
       "    <tr>\n",
       "      <th>2</th>\n",
       "      <td>(454.0, 492.0, 14334.0, 0.0, 0.0, 0.0, 2.0, 0....</td>\n",
       "      <td>0.0</td>\n",
       "      <td>[643.0, 39.0]</td>\n",
       "      <td>[0.9428152492668622, 0.05718475073313783]</td>\n",
       "      <td>0.0</td>\n",
       "    </tr>\n",
       "    <tr>\n",
       "      <th>3</th>\n",
       "      <td>(2.0, 54540.0, 8314.0, 0.0, 0.0, 0.0, 2.0, 0.0...</td>\n",
       "      <td>1.0</td>\n",
       "      <td>[3.0, 691.0]</td>\n",
       "      <td>[0.004322766570605188, 0.9956772334293948]</td>\n",
       "      <td>1.0</td>\n",
       "    </tr>\n",
       "    <tr>\n",
       "      <th>4</th>\n",
       "      <td>(5.0, 54540.0, 8314.0, 0.0, 0.0, 0.0, 2.0, 0.0...</td>\n",
       "      <td>1.0</td>\n",
       "      <td>[3.0, 691.0]</td>\n",
       "      <td>[0.004322766570605188, 0.9956772334293948]</td>\n",
       "      <td>1.0</td>\n",
       "    </tr>\n",
       "  </tbody>\n",
       "</table>\n",
       "</div>"
      ],
      "text/plain": [
       "                                            features  label  rawPrediction  \\\n",
       "0  (583.0, 848.0, 25323.0, 0.0, 0.0, 0.0, 1.0, 0....    0.0  [643.0, 39.0]   \n",
       "1  (179.0, 1559.0, 2855.0, 0.0, 0.0, 0.0, 3.0, 0....    1.0  [643.0, 39.0]   \n",
       "2  (454.0, 492.0, 14334.0, 0.0, 0.0, 0.0, 2.0, 0....    0.0  [643.0, 39.0]   \n",
       "3  (2.0, 54540.0, 8314.0, 0.0, 0.0, 0.0, 2.0, 0.0...    1.0   [3.0, 691.0]   \n",
       "4  (5.0, 54540.0, 8314.0, 0.0, 0.0, 0.0, 2.0, 0.0...    1.0   [3.0, 691.0]   \n",
       "\n",
       "                                  probability  prediction  \n",
       "0   [0.9428152492668622, 0.05718475073313783]         0.0  \n",
       "1   [0.9428152492668622, 0.05718475073313783]         0.0  \n",
       "2   [0.9428152492668622, 0.05718475073313783]         0.0  \n",
       "3  [0.004322766570605188, 0.9956772334293948]         1.0  \n",
       "4  [0.004322766570605188, 0.9956772334293948]         1.0  "
      ]
     },
     "execution_count": 12,
     "metadata": {},
     "output_type": "execute_result"
    }
   ],
   "source": [
    "dt = DecisionTreeClassifier(labelCol=\"label\", featuresCol=\"features\")\n",
    "modeldt = dt.fit(train)\n",
    "predictiondt = modeldt.transform(test)\n",
    "predictiondt.toPandas().head()"
   ]
  },
  {
   "cell_type": "code",
   "execution_count": 13,
   "id": "02b402c1-e142-45c5-b250-e18006cf807b",
   "metadata": {},
   "outputs": [
    {
     "data": {
      "text/html": [
       "<div>\n",
       "<style scoped>\n",
       "    .dataframe tbody tr th:only-of-type {\n",
       "        vertical-align: middle;\n",
       "    }\n",
       "\n",
       "    .dataframe tbody tr th {\n",
       "        vertical-align: top;\n",
       "    }\n",
       "\n",
       "    .dataframe thead th {\n",
       "        text-align: right;\n",
       "    }\n",
       "</style>\n",
       "<table border=\"1\" class=\"dataframe\">\n",
       "  <thead>\n",
       "    <tr style=\"text-align: right;\">\n",
       "      <th></th>\n",
       "      <th>prediction</th>\n",
       "      <th>label</th>\n",
       "      <th>count</th>\n",
       "      <th>status</th>\n",
       "    </tr>\n",
       "  </thead>\n",
       "  <tbody>\n",
       "    <tr>\n",
       "      <th>0</th>\n",
       "      <td>0.0</td>\n",
       "      <td>0.0</td>\n",
       "      <td>19472</td>\n",
       "      <td>Normal</td>\n",
       "    </tr>\n",
       "    <tr>\n",
       "      <th>1</th>\n",
       "      <td>0.0</td>\n",
       "      <td>1.0</td>\n",
       "      <td>227</td>\n",
       "      <td>Anomaly</td>\n",
       "    </tr>\n",
       "    <tr>\n",
       "      <th>2</th>\n",
       "      <td>1.0</td>\n",
       "      <td>0.0</td>\n",
       "      <td>669</td>\n",
       "      <td>Normal</td>\n",
       "    </tr>\n",
       "    <tr>\n",
       "      <th>3</th>\n",
       "      <td>1.0</td>\n",
       "      <td>1.0</td>\n",
       "      <td>17340</td>\n",
       "      <td>Anomaly</td>\n",
       "    </tr>\n",
       "  </tbody>\n",
       "</table>\n",
       "</div>"
      ],
      "text/plain": [
       "   prediction  label  count   status\n",
       "0         0.0    0.0  19472   Normal\n",
       "1         0.0    1.0    227  Anomaly\n",
       "2         1.0    0.0    669   Normal\n",
       "3         1.0    1.0  17340  Anomaly"
      ]
     },
     "execution_count": 13,
     "metadata": {},
     "output_type": "execute_result"
    }
   ],
   "source": [
    "predictiondt.select(\"prediction\", \"label\")\\\n",
    ".groupBy(\"prediction\", \"label\").count()\\\n",
    ".orderBy(\"prediction\", \"label\", ascending=True).withColumn(\"status\",\n",
    "funcs.when(funcs.col(\"label\").isin(1), \"Anomaly\")\\\n",
    ".otherwise(\"Normal\")).toPandas().head()"
   ]
  },
  {
   "cell_type": "code",
   "execution_count": 14,
   "id": "a4d06a90-ae09-4e4d-b89d-fe79053bf36a",
   "metadata": {},
   "outputs": [
    {
     "data": {
      "text/html": [
       "<div>\n",
       "<style scoped>\n",
       "    .dataframe tbody tr th:only-of-type {\n",
       "        vertical-align: middle;\n",
       "    }\n",
       "\n",
       "    .dataframe tbody tr th {\n",
       "        vertical-align: top;\n",
       "    }\n",
       "\n",
       "    .dataframe thead th {\n",
       "        text-align: right;\n",
       "    }\n",
       "</style>\n",
       "<table border=\"1\" class=\"dataframe\">\n",
       "  <thead>\n",
       "    <tr style=\"text-align: right;\">\n",
       "      <th></th>\n",
       "      <th>label</th>\n",
       "      <th>prediction</th>\n",
       "      <th>count</th>\n",
       "    </tr>\n",
       "  </thead>\n",
       "  <tbody>\n",
       "    <tr>\n",
       "      <th>0</th>\n",
       "      <td>1.0</td>\n",
       "      <td>1.0</td>\n",
       "      <td>17340</td>\n",
       "    </tr>\n",
       "    <tr>\n",
       "      <th>1</th>\n",
       "      <td>0.0</td>\n",
       "      <td>1.0</td>\n",
       "      <td>669</td>\n",
       "    </tr>\n",
       "    <tr>\n",
       "      <th>2</th>\n",
       "      <td>1.0</td>\n",
       "      <td>0.0</td>\n",
       "      <td>227</td>\n",
       "    </tr>\n",
       "    <tr>\n",
       "      <th>3</th>\n",
       "      <td>0.0</td>\n",
       "      <td>0.0</td>\n",
       "      <td>19472</td>\n",
       "    </tr>\n",
       "  </tbody>\n",
       "</table>\n",
       "</div>"
      ],
      "text/plain": [
       "   label  prediction  count\n",
       "0    1.0         1.0  17340\n",
       "1    0.0         1.0    669\n",
       "2    1.0         0.0    227\n",
       "3    0.0         0.0  19472"
      ]
     },
     "execution_count": 14,
     "metadata": {},
     "output_type": "execute_result"
    }
   ],
   "source": [
    "predictiondt.groupBy([\"label\",\"prediction\"]).count().toPandas().head()"
   ]
  },
  {
   "cell_type": "code",
   "execution_count": 15,
   "id": "a123e8fd-c504-496f-830f-88e1144cc7d7",
   "metadata": {},
   "outputs": [
    {
     "name": "stdout",
     "output_type": "stream",
     "text": [
      "--- Decision Tree --- \n",
      "Accuracy Rate = 0.9762\n",
      "  Error  Rate = 0.0238 \n"
     ]
    }
   ],
   "source": [
    "evaluatordt = MulticlassClassificationEvaluator(\n",
    "    labelCol=\"label\", predictionCol=\"prediction\", metricName=\"accuracy\")\n",
    "dt = evaluatordt.evaluate(predictiondt)\n",
    "\n",
    "print(\"--- Decision Tree --- \")\n",
    "print(\"Accuracy Rate =\", round(dt,4))\n",
    "print(\"  Error  Rate = %g \" % round((1.0 - dt),4))"
   ]
  },
  {
   "cell_type": "code",
   "execution_count": 16,
   "id": "2d1c9fef-5ed2-43e6-bcc3-68fa48c413f8",
   "metadata": {},
   "outputs": [
    {
     "name": "stderr",
     "output_type": "stream",
     "text": [
      "/usr/local/spark/python/pyspark/sql/context.py:158: FutureWarning: Deprecated in 3.0.0. Use SparkSession.builder.getOrCreate() instead.\n",
      "  warnings.warn(\n"
     ]
    },
    {
     "name": "stdout",
     "output_type": "stream",
     "text": [
      "+-------+-------+\n",
      "| normal|anomaly|\n",
      "+-------+-------+\n",
      "|19472.0|  669.0|\n",
      "|  227.0|17340.0|\n",
      "+-------+-------+\n",
      "\n"
     ]
    }
   ],
   "source": [
    "predictionAndLabel = predictiondt.select(\"prediction\", \"label\").rdd\n",
    "\n",
    "from pyspark.mllib.evaluation import MulticlassMetrics\n",
    "\n",
    "metrics = MulticlassMetrics(predictionAndLabel)\n",
    "cm = metrics.confusionMatrix()\n",
    "rows = cm.toArray().tolist()\n",
    "\n",
    "confusion_matrix = spark.createDataFrame(rows,[\"normal\",\"anomaly\"])\n",
    "confusion_matrix.show()\n"
   ]
  },
  {
   "cell_type": "code",
   "execution_count": 17,
   "id": "eaeb3f3e-4fe1-4fb1-8f19-bd1b90bab149",
   "metadata": {},
   "outputs": [
    {
     "name": "stdout",
     "output_type": "stream",
     "text": [
      "+----------------+-----+-----+\n",
      "|prediction_label|  0.0|  1.0|\n",
      "+----------------+-----+-----+\n",
      "|             1.0|  669|17340|\n",
      "|             0.0|19472|  227|\n",
      "+----------------+-----+-----+\n",
      "\n"
     ]
    }
   ],
   "source": [
    "predictiondt.withColumn(\"A\", funcs.struct(\"prediction\",\"label\")).crosstab(\"prediction\",\"label\").show()"
   ]
  },
  {
   "cell_type": "code",
   "execution_count": 18,
   "id": "26f27901-d540-4951-a523-45abec90e4b4",
   "metadata": {},
   "outputs": [],
   "source": [
    "from pyspark.ml.classification import RandomForestClassifier"
   ]
  },
  {
   "cell_type": "code",
   "execution_count": 19,
   "id": "9be9afb1-a5bc-426f-b459-fa4acef6348c",
   "metadata": {},
   "outputs": [
    {
     "data": {
      "text/html": [
       "<div>\n",
       "<style scoped>\n",
       "    .dataframe tbody tr th:only-of-type {\n",
       "        vertical-align: middle;\n",
       "    }\n",
       "\n",
       "    .dataframe tbody tr th {\n",
       "        vertical-align: top;\n",
       "    }\n",
       "\n",
       "    .dataframe thead th {\n",
       "        text-align: right;\n",
       "    }\n",
       "</style>\n",
       "<table border=\"1\" class=\"dataframe\">\n",
       "  <thead>\n",
       "    <tr style=\"text-align: right;\">\n",
       "      <th></th>\n",
       "      <th>features</th>\n",
       "      <th>label</th>\n",
       "      <th>rawPrediction</th>\n",
       "      <th>probability</th>\n",
       "      <th>prediction</th>\n",
       "    </tr>\n",
       "  </thead>\n",
       "  <tbody>\n",
       "    <tr>\n",
       "      <th>0</th>\n",
       "      <td>(583.0, 848.0, 25323.0, 0.0, 0.0, 0.0, 1.0, 0....</td>\n",
       "      <td>0.0</td>\n",
       "      <td>[6.612766666690682, 3.387233333309317]</td>\n",
       "      <td>[0.6612766666690681, 0.33872333333093174]</td>\n",
       "      <td>0.0</td>\n",
       "    </tr>\n",
       "    <tr>\n",
       "      <th>1</th>\n",
       "      <td>(179.0, 1559.0, 2855.0, 0.0, 0.0, 0.0, 3.0, 0....</td>\n",
       "      <td>1.0</td>\n",
       "      <td>[6.011456524475521, 3.9885434755244793]</td>\n",
       "      <td>[0.601145652447552, 0.3988543475524479]</td>\n",
       "      <td>0.0</td>\n",
       "    </tr>\n",
       "    <tr>\n",
       "      <th>2</th>\n",
       "      <td>(454.0, 492.0, 14334.0, 0.0, 0.0, 0.0, 2.0, 0....</td>\n",
       "      <td>0.0</td>\n",
       "      <td>[7.672227370833604, 2.3277726291663954]</td>\n",
       "      <td>[0.7672227370833604, 0.23277726291663953]</td>\n",
       "      <td>0.0</td>\n",
       "    </tr>\n",
       "  </tbody>\n",
       "</table>\n",
       "</div>"
      ],
      "text/plain": [
       "                                            features  label  \\\n",
       "0  (583.0, 848.0, 25323.0, 0.0, 0.0, 0.0, 1.0, 0....    0.0   \n",
       "1  (179.0, 1559.0, 2855.0, 0.0, 0.0, 0.0, 3.0, 0....    1.0   \n",
       "2  (454.0, 492.0, 14334.0, 0.0, 0.0, 0.0, 2.0, 0....    0.0   \n",
       "\n",
       "                             rawPrediction  \\\n",
       "0   [6.612766666690682, 3.387233333309317]   \n",
       "1  [6.011456524475521, 3.9885434755244793]   \n",
       "2  [7.672227370833604, 2.3277726291663954]   \n",
       "\n",
       "                                 probability  prediction  \n",
       "0  [0.6612766666690681, 0.33872333333093174]         0.0  \n",
       "1    [0.601145652447552, 0.3988543475524479]         0.0  \n",
       "2  [0.7672227370833604, 0.23277726291663953]         0.0  "
      ]
     },
     "execution_count": 19,
     "metadata": {},
     "output_type": "execute_result"
    }
   ],
   "source": [
    "rf = RandomForestClassifier(labelCol=\"label\", featuresCol=\"features\", numTrees=10)\n",
    "modelrf = rf.fit(train)\n",
    "predictionrf = modelrf.transform(test)\n",
    "predictionrf.toPandas().head(3)"
   ]
  },
  {
   "cell_type": "code",
   "execution_count": 20,
   "id": "e3f95f21-32f8-4c13-b0b7-833e2d3c9350",
   "metadata": {},
   "outputs": [
    {
     "name": "stdout",
     "output_type": "stream",
     "text": [
      "--- Random Forest Tree --- \n",
      "Accuracy Rate = 0.9868\n",
      "  Error  Rate = 0.0132 \n"
     ]
    }
   ],
   "source": [
    "evaluatorrf = MulticlassClassificationEvaluator(\n",
    "    labelCol=\"label\", predictionCol=\"prediction\", metricName=\"accuracy\")\n",
    "rf = evaluatorrf.evaluate(predictionrf)\n",
    "\n",
    "print(\"--- Random Forest Tree --- \")\n",
    "print(\"Accuracy Rate =\", round(rf,4))\n",
    "print(\"  Error  Rate = %g \" % round((1.0 - rf),4))"
   ]
  },
  {
   "cell_type": "code",
   "execution_count": 21,
   "id": "42348e23-eceb-4127-bfcd-01895c2cd050",
   "metadata": {},
   "outputs": [
    {
     "name": "stderr",
     "output_type": "stream",
     "text": [
      "/usr/local/spark/python/pyspark/sql/context.py:158: FutureWarning: Deprecated in 3.0.0. Use SparkSession.builder.getOrCreate() instead.\n",
      "  warnings.warn(\n"
     ]
    },
    {
     "name": "stdout",
     "output_type": "stream",
     "text": [
      "+-------+-------+\n",
      "| normal|anomaly|\n",
      "+-------+-------+\n",
      "|20067.0|   74.0|\n",
      "|  425.0|17142.0|\n",
      "+-------+-------+\n",
      "\n"
     ]
    }
   ],
   "source": [
    "predictionAndLabel = predictionrf.select(\"prediction\", \"label\").rdd\n",
    "\n",
    "from pyspark.mllib.evaluation import MulticlassMetrics\n",
    "metrics = MulticlassMetrics(predictionAndLabel)\n",
    "cm = metrics.confusionMatrix()\n",
    "rows = cm.toArray().tolist()\n",
    "\n",
    "confusion_matrix = spark.createDataFrame(rows,[\"normal\",\"anomaly\"])\n",
    "confusion_matrix.show()"
   ]
  },
  {
   "cell_type": "code",
   "execution_count": 22,
   "id": "c6e51f2c-3a9c-47fa-b942-a1421f7e7399",
   "metadata": {},
   "outputs": [
    {
     "data": {
      "text/plain": [
       "DenseMatrix(2, 2, [20067.0, 425.0, 74.0, 17142.0], 0)"
      ]
     },
     "execution_count": 22,
     "metadata": {},
     "output_type": "execute_result"
    }
   ],
   "source": [
    "predictionAndLabels = predictionrf.select(\"prediction\", \"label\").rdd\n",
    "metrics = MulticlassMetrics(predictionAndLabels)\n",
    "metrics.confusionMatrix()"
   ]
  },
  {
   "cell_type": "code",
   "execution_count": 23,
   "id": "8906ce45-9323-4fa2-93ed-63a874155d81",
   "metadata": {},
   "outputs": [
    {
     "data": {
      "text/plain": [
       "DenseMatrix(2, 2, [20067.0, 425.0, 74.0, 17142.0], 0)"
      ]
     },
     "execution_count": 23,
     "metadata": {},
     "output_type": "execute_result"
    }
   ],
   "source": [
    "predictionAndLabels = predictionrf.select(\"prediction\", \"label\").rdd\n",
    "metrics = MulticlassMetrics(predictionAndLabels)\n",
    "metrics.confusionMatrix()"
   ]
  },
  {
   "cell_type": "code",
   "execution_count": 24,
   "id": "6350d6ca-8139-4d66-a466-1a198554e427",
   "metadata": {},
   "outputs": [
    {
     "name": "stdout",
     "output_type": "stream",
     "text": [
      "+----------------+-----+-----+\n",
      "|prediction_label|  0.0|  1.0|\n",
      "+----------------+-----+-----+\n",
      "|             1.0|   74|17142|\n",
      "|             0.0|20067|  425|\n",
      "+----------------+-----+-----+\n",
      "\n"
     ]
    }
   ],
   "source": [
    "predictionrf.withColumn(\"A\", funcs.struct(\"prediction\",\"label\")).crosstab(\"prediction\",\"label\").show()"
   ]
  },
  {
   "cell_type": "code",
   "execution_count": 25,
   "id": "a9e71dfa-a502-4165-8080-ed3714fa0585",
   "metadata": {},
   "outputs": [
    {
     "name": "stdout",
     "output_type": "stream",
     "text": [
      "+-----+----------+-----+\n",
      "|label|prediction|count|\n",
      "+-----+----------+-----+\n",
      "|  1.0|       1.0|17142|\n",
      "|  0.0|       1.0|   74|\n",
      "|  1.0|       0.0|  425|\n",
      "|  0.0|       0.0|20067|\n",
      "+-----+----------+-----+\n",
      "\n"
     ]
    }
   ],
   "source": [
    "predictionrfevaluator = MulticlassClassificationEvaluator(predictionCol=\"prediction\", \\\n",
    "                    labelCol=\"label\",metricName=\"accuracy\")\n",
    "predictionrfevaluator.evaluate(predictionrf)      \n",
    "\n",
    "predictionrf.groupBy(\"label\",\"prediction\").count().show()"
   ]
  },
  {
   "cell_type": "code",
   "execution_count": 26,
   "id": "d899353b-b19c-4ca8-abdd-b8faad735b9d",
   "metadata": {},
   "outputs": [],
   "source": [
    "from pyspark.ml.classification import NaiveBayes\n",
    "from pyspark.ml.evaluation import MulticlassClassificationEvaluator"
   ]
  },
  {
   "cell_type": "code",
   "execution_count": 27,
   "id": "5782bf94-e498-457f-aaf8-bed39b2a2d5d",
   "metadata": {},
   "outputs": [
    {
     "data": {
      "text/html": [
       "<div>\n",
       "<style scoped>\n",
       "    .dataframe tbody tr th:only-of-type {\n",
       "        vertical-align: middle;\n",
       "    }\n",
       "\n",
       "    .dataframe tbody tr th {\n",
       "        vertical-align: top;\n",
       "    }\n",
       "\n",
       "    .dataframe thead th {\n",
       "        text-align: right;\n",
       "    }\n",
       "</style>\n",
       "<table border=\"1\" class=\"dataframe\">\n",
       "  <thead>\n",
       "    <tr style=\"text-align: right;\">\n",
       "      <th></th>\n",
       "      <th>features</th>\n",
       "      <th>label</th>\n",
       "      <th>rawPrediction</th>\n",
       "      <th>probability</th>\n",
       "      <th>prediction</th>\n",
       "    </tr>\n",
       "  </thead>\n",
       "  <tbody>\n",
       "    <tr>\n",
       "      <th>0</th>\n",
       "      <td>(583.0, 848.0, 25323.0, 0.0, 0.0, 0.0, 1.0, 0....</td>\n",
       "      <td>0.0</td>\n",
       "      <td>[-40679.81324538828, -65501.440215352995]</td>\n",
       "      <td>[1.0, 0.0]</td>\n",
       "      <td>0.0</td>\n",
       "    </tr>\n",
       "    <tr>\n",
       "      <th>1</th>\n",
       "      <td>(179.0, 1559.0, 2855.0, 0.0, 0.0, 0.0, 3.0, 0....</td>\n",
       "      <td>1.0</td>\n",
       "      <td>[-5502.958532179816, -8006.074561569296]</td>\n",
       "      <td>[1.0, 0.0]</td>\n",
       "      <td>0.0</td>\n",
       "    </tr>\n",
       "    <tr>\n",
       "      <th>2</th>\n",
       "      <td>(454.0, 492.0, 14334.0, 0.0, 0.0, 0.0, 2.0, 0....</td>\n",
       "      <td>0.0</td>\n",
       "      <td>[-22699.67730375073, -36239.88468439255]</td>\n",
       "      <td>[1.0, 0.0]</td>\n",
       "      <td>0.0</td>\n",
       "    </tr>\n",
       "  </tbody>\n",
       "</table>\n",
       "</div>"
      ],
      "text/plain": [
       "                                            features  label  \\\n",
       "0  (583.0, 848.0, 25323.0, 0.0, 0.0, 0.0, 1.0, 0....    0.0   \n",
       "1  (179.0, 1559.0, 2855.0, 0.0, 0.0, 0.0, 3.0, 0....    1.0   \n",
       "2  (454.0, 492.0, 14334.0, 0.0, 0.0, 0.0, 2.0, 0....    0.0   \n",
       "\n",
       "                               rawPrediction probability  prediction  \n",
       "0  [-40679.81324538828, -65501.440215352995]  [1.0, 0.0]         0.0  \n",
       "1   [-5502.958532179816, -8006.074561569296]  [1.0, 0.0]         0.0  \n",
       "2   [-22699.67730375073, -36239.88468439255]  [1.0, 0.0]         0.0  "
      ]
     },
     "execution_count": 27,
     "metadata": {},
     "output_type": "execute_result"
    }
   ],
   "source": [
    "nb = NaiveBayes(smoothing=1.0, modelType=\"multinomial\")\n",
    "\n",
    "modelnb = nb.fit(train)\n",
    "predictionnb = modelnb.transform(test)\n",
    "predictionnb.toPandas().head(3)"
   ]
  },
  {
   "cell_type": "code",
   "execution_count": 28,
   "id": "0358cdb8-1ef7-4e74-856b-9fc07cc7559a",
   "metadata": {},
   "outputs": [
    {
     "name": "stdout",
     "output_type": "stream",
     "text": [
      "--- Naive Bayes --- \n",
      "Accuracy Rate = 0.5236\n",
      "  Error  Rate = 0.4764 \n"
     ]
    }
   ],
   "source": [
    "evaluatornb = MulticlassClassificationEvaluator(labelCol=\"label\", \n",
    "                                              predictionCol=\"prediction\", \n",
    "                                              metricName=\"accuracy\")\n",
    "nb = evaluatornb.evaluate(predictionnb)\n",
    "\n",
    "print(\"--- Naive Bayes --- \")\n",
    "print(\"Accuracy Rate =\", round(nb,4))\n",
    "print(\"  Error  Rate = %g \" % round((1.0 - nb),4))"
   ]
  },
  {
   "cell_type": "code",
   "execution_count": 29,
   "id": "abbb6796-ba22-4111-93ba-6133c6d88bb9",
   "metadata": {},
   "outputs": [],
   "source": [
    "from pyspark.ml.classification import GBTClassifier"
   ]
  },
  {
   "cell_type": "code",
   "execution_count": 30,
   "id": "56dff575-e397-4476-afce-52d1088c7fb8",
   "metadata": {},
   "outputs": [
    {
     "data": {
      "text/html": [
       "<div>\n",
       "<style scoped>\n",
       "    .dataframe tbody tr th:only-of-type {\n",
       "        vertical-align: middle;\n",
       "    }\n",
       "\n",
       "    .dataframe tbody tr th {\n",
       "        vertical-align: top;\n",
       "    }\n",
       "\n",
       "    .dataframe thead th {\n",
       "        text-align: right;\n",
       "    }\n",
       "</style>\n",
       "<table border=\"1\" class=\"dataframe\">\n",
       "  <thead>\n",
       "    <tr style=\"text-align: right;\">\n",
       "      <th></th>\n",
       "      <th>features</th>\n",
       "      <th>label</th>\n",
       "      <th>rawPrediction</th>\n",
       "      <th>probability</th>\n",
       "      <th>prediction</th>\n",
       "    </tr>\n",
       "  </thead>\n",
       "  <tbody>\n",
       "    <tr>\n",
       "      <th>0</th>\n",
       "      <td>(583.0, 848.0, 25323.0, 0.0, 0.0, 0.0, 1.0, 0....</td>\n",
       "      <td>0.0</td>\n",
       "      <td>[1.5309646088755737, -1.5309646088755737]</td>\n",
       "      <td>[0.9552947598453166, 0.04470524015468336]</td>\n",
       "      <td>0.0</td>\n",
       "    </tr>\n",
       "    <tr>\n",
       "      <th>1</th>\n",
       "      <td>(179.0, 1559.0, 2855.0, 0.0, 0.0, 0.0, 3.0, 0....</td>\n",
       "      <td>1.0</td>\n",
       "      <td>[-0.13664228593137437, 0.13664228593137437]</td>\n",
       "      <td>[0.43210091581448806, 0.5678990841855119]</td>\n",
       "      <td>1.0</td>\n",
       "    </tr>\n",
       "    <tr>\n",
       "      <th>2</th>\n",
       "      <td>(454.0, 492.0, 14334.0, 0.0, 0.0, 0.0, 2.0, 0....</td>\n",
       "      <td>0.0</td>\n",
       "      <td>[1.080536956516119, -1.080536956516119]</td>\n",
       "      <td>[0.896699067332276, 0.103300932667724]</td>\n",
       "      <td>0.0</td>\n",
       "    </tr>\n",
       "  </tbody>\n",
       "</table>\n",
       "</div>"
      ],
      "text/plain": [
       "                                            features  label  \\\n",
       "0  (583.0, 848.0, 25323.0, 0.0, 0.0, 0.0, 1.0, 0....    0.0   \n",
       "1  (179.0, 1559.0, 2855.0, 0.0, 0.0, 0.0, 3.0, 0....    1.0   \n",
       "2  (454.0, 492.0, 14334.0, 0.0, 0.0, 0.0, 2.0, 0....    0.0   \n",
       "\n",
       "                                 rawPrediction  \\\n",
       "0    [1.5309646088755737, -1.5309646088755737]   \n",
       "1  [-0.13664228593137437, 0.13664228593137437]   \n",
       "2      [1.080536956516119, -1.080536956516119]   \n",
       "\n",
       "                                 probability  prediction  \n",
       "0  [0.9552947598453166, 0.04470524015468336]         0.0  \n",
       "1  [0.43210091581448806, 0.5678990841855119]         1.0  \n",
       "2     [0.896699067332276, 0.103300932667724]         0.0  "
      ]
     },
     "execution_count": 30,
     "metadata": {},
     "output_type": "execute_result"
    }
   ],
   "source": [
    "gbt = GBTClassifier(labelCol=\"label\", featuresCol=\"features\", maxIter=10)\n",
    "\n",
    "modelgbt = gbt.fit(train)\n",
    "predictiongbt = modelgbt.transform(test)\n",
    "predictiongbt.toPandas().head(3)"
   ]
  },
  {
   "cell_type": "code",
   "execution_count": 31,
   "id": "b349efc0-ad43-471c-b8a4-e7792e1facce",
   "metadata": {},
   "outputs": [
    {
     "name": "stdout",
     "output_type": "stream",
     "text": [
      "--- Gradient Boost Tree --- \n",
      "Accuracy Rate = 0.9896\n",
      "  Error  Rate = 0.0104 \n"
     ]
    }
   ],
   "source": [
    "evaluatorgbt = MulticlassClassificationEvaluator(\n",
    "    labelCol=\"label\", predictionCol=\"prediction\", metricName=\"accuracy\")\n",
    "gbt = evaluatorgbt.evaluate(predictiongbt)\n",
    "\n",
    "print(\"--- Gradient Boost Tree --- \")\n",
    "print(\"Accuracy Rate =\", round(gbt,4))\n",
    "print(\"  Error  Rate = %g \" % round((1.0 - gbt),4))"
   ]
  },
  {
   "cell_type": "code",
   "execution_count": 32,
   "id": "844e0d7a-3a29-4bd1-8f8e-e65f3a592d81",
   "metadata": {},
   "outputs": [],
   "source": [
    "from pyspark.ml.classification import LogisticRegression"
   ]
  },
  {
   "cell_type": "code",
   "execution_count": 33,
   "id": "d7306ae9-6243-4fbe-920f-3c8e252385a6",
   "metadata": {},
   "outputs": [
    {
     "data": {
      "text/html": [
       "<div>\n",
       "<style scoped>\n",
       "    .dataframe tbody tr th:only-of-type {\n",
       "        vertical-align: middle;\n",
       "    }\n",
       "\n",
       "    .dataframe tbody tr th {\n",
       "        vertical-align: top;\n",
       "    }\n",
       "\n",
       "    .dataframe thead th {\n",
       "        text-align: right;\n",
       "    }\n",
       "</style>\n",
       "<table border=\"1\" class=\"dataframe\">\n",
       "  <thead>\n",
       "    <tr style=\"text-align: right;\">\n",
       "      <th></th>\n",
       "      <th>features</th>\n",
       "      <th>label</th>\n",
       "      <th>rawPrediction</th>\n",
       "      <th>probability</th>\n",
       "      <th>prediction</th>\n",
       "    </tr>\n",
       "  </thead>\n",
       "  <tbody>\n",
       "    <tr>\n",
       "      <th>0</th>\n",
       "      <td>(583.0, 848.0, 25323.0, 0.0, 0.0, 0.0, 1.0, 0....</td>\n",
       "      <td>0.0</td>\n",
       "      <td>[1.2541566448376056, -1.2541566448376056]</td>\n",
       "      <td>[0.7780185668523281, 0.22198143314767194]</td>\n",
       "      <td>0.0</td>\n",
       "    </tr>\n",
       "    <tr>\n",
       "      <th>1</th>\n",
       "      <td>(179.0, 1559.0, 2855.0, 0.0, 0.0, 0.0, 3.0, 0....</td>\n",
       "      <td>1.0</td>\n",
       "      <td>[0.4843895070210873, -0.4843895070210873]</td>\n",
       "      <td>[0.6187838558166902, 0.38121614418330985]</td>\n",
       "      <td>0.0</td>\n",
       "    </tr>\n",
       "    <tr>\n",
       "      <th>2</th>\n",
       "      <td>(454.0, 492.0, 14334.0, 0.0, 0.0, 0.0, 2.0, 0....</td>\n",
       "      <td>0.0</td>\n",
       "      <td>[0.09836559198274131, -0.09836559198274131]</td>\n",
       "      <td>[0.5245715887295693, 0.4754284112704307]</td>\n",
       "      <td>0.0</td>\n",
       "    </tr>\n",
       "  </tbody>\n",
       "</table>\n",
       "</div>"
      ],
      "text/plain": [
       "                                            features  label  \\\n",
       "0  (583.0, 848.0, 25323.0, 0.0, 0.0, 0.0, 1.0, 0....    0.0   \n",
       "1  (179.0, 1559.0, 2855.0, 0.0, 0.0, 0.0, 3.0, 0....    1.0   \n",
       "2  (454.0, 492.0, 14334.0, 0.0, 0.0, 0.0, 2.0, 0....    0.0   \n",
       "\n",
       "                                 rawPrediction  \\\n",
       "0    [1.2541566448376056, -1.2541566448376056]   \n",
       "1    [0.4843895070210873, -0.4843895070210873]   \n",
       "2  [0.09836559198274131, -0.09836559198274131]   \n",
       "\n",
       "                                 probability  prediction  \n",
       "0  [0.7780185668523281, 0.22198143314767194]         0.0  \n",
       "1  [0.6187838558166902, 0.38121614418330985]         0.0  \n",
       "2   [0.5245715887295693, 0.4754284112704307]         0.0  "
      ]
     },
     "execution_count": 33,
     "metadata": {},
     "output_type": "execute_result"
    }
   ],
   "source": [
    "lr = LogisticRegression(regParam=0.01)\n",
    "modellr = lr.fit(train)\n",
    "predictionlr = modellr.transform(test)\n",
    "predictionlr.toPandas().head(3)"
   ]
  },
  {
   "cell_type": "code",
   "execution_count": 34,
   "id": "ad3a7763-b445-42b4-a6d8-4c5338d22206",
   "metadata": {},
   "outputs": [],
   "source": [
    "evaluatorlr = MulticlassClassificationEvaluator(\n",
    "    labelCol=\"label\", predictionCol=\"prediction\", metricName=\"accuracy\")\n",
    "lr = evaluatorlr.evaluate(predictionlr)\n"
   ]
  },
  {
   "cell_type": "code",
   "execution_count": 35,
   "id": "3cb137d2-55eb-48fd-96c1-284afdfa69db",
   "metadata": {},
   "outputs": [
    {
     "name": "stdout",
     "output_type": "stream",
     "text": [
      "--- Logistic Regression --- \n",
      "Accuracy Rate = 0.9446\n",
      "  Error  Rate = 0.0554 \n"
     ]
    }
   ],
   "source": [
    "print(\"--- Logistic Regression --- \")\n",
    "print(\"Accuracy Rate =\", round(lr,4))\n",
    "print(\"  Error  Rate = %g \" % round((1.0 - lr),4))"
   ]
  },
  {
   "cell_type": "code",
   "execution_count": 36,
   "id": "c5b07058-0e61-40e5-a917-f31be10baae6",
   "metadata": {},
   "outputs": [
    {
     "name": "stdout",
     "output_type": "stream",
     "text": [
      "      Decision Tree Accuracy = 0.97624\n",
      " Random Forest Tree Accuracy = 0.98677\n",
      "        Naive Bayes Accuracy = 0.52363\n"
     ]
    }
   ],
   "source": [
    "print(\"      Decision Tree Accuracy =\", round(dt,5))\n",
    "print(\" Random Forest Tree Accuracy =\", round(rf,5))\n",
    "print(\"        Naive Bayes Accuracy =\", round(nb,5))"
   ]
  },
  {
   "cell_type": "markdown",
   "id": "3e59a39e-c045-4c51-b252-1b276c1ff953",
   "metadata": {},
   "source": [
    "# Streaming process"
   ]
  },
  {
   "cell_type": "code",
   "execution_count": 37,
   "id": "d3c7538a-278a-42de-b6ab-0676725d851d",
   "metadata": {},
   "outputs": [
    {
     "name": "stdout",
     "output_type": "stream",
     "text": [
      "StructType([StructField('duration', FloatType(), True), StructField('src_bytes', FloatType(), True), StructField('dst_bytes', FloatType(), True), StructField('land', FloatType(), True), StructField('wrong_fragment', FloatType(), True), StructField('urgent', FloatType(), True), StructField('hot', FloatType(), True), StructField('num_failed_logins', FloatType(), True), StructField('logged_in', FloatType(), True), StructField('num_compromised', FloatType(), True), StructField('root_shell', FloatType(), True), StructField('su_attempted', FloatType(), True), StructField('num_root', FloatType(), True), StructField('num_file_creations', FloatType(), True), StructField('num_shells', FloatType(), True), StructField('num_access_files', FloatType(), True), StructField('num_outbound_cmds', FloatType(), True), StructField('is_host_login', FloatType(), True), StructField('is_guest_login', FloatType(), True), StructField('count', FloatType(), True), StructField('srv_count', FloatType(), True), StructField('serror_rate', FloatType(), True), StructField('srv_serror_rate', FloatType(), True), StructField('rerror_rate', FloatType(), True), StructField('srv_rerror_rate', FloatType(), True), StructField('same_srv_rate', FloatType(), True), StructField('diff_srv_rate', FloatType(), True), StructField('srv_diff_host_rate', FloatType(), True), StructField('dst_host_count', FloatType(), True), StructField('dst_host_srv_count', FloatType(), True), StructField('dst_host_same_srv_rate', FloatType(), True), StructField('dst_host_diff_srv_rate', FloatType(), True), StructField('dst_host_same_src_port_rate', FloatType(), True), StructField('dst_host_srv_diff_host_rate', FloatType(), True), StructField('dst_host_serror_rate', FloatType(), True), StructField('dst_host_srv_serror_rate', FloatType(), True), StructField('dst_host_rerror_rate', FloatType(), True), StructField('dst_host_srv_rerror_rate', FloatType(), True), StructField('status', StringType(), True)])\n"
     ]
    }
   ],
   "source": [
    "schema = StructType(\n",
    "[\n",
    "    StructField(\"duration\", FloatType(), True),\n",
    "    StructField(\"src_bytes\", FloatType(), True),\n",
    "    StructField(\"dst_bytes\", FloatType(), True),\n",
    "    StructField(\"land\", FloatType(), True),\n",
    "    StructField(\"wrong_fragment\", FloatType(), True),\n",
    "    StructField(\"urgent\", FloatType(), True),\n",
    "    StructField(\"hot\", FloatType(), True),\n",
    "    StructField(\"num_failed_logins\", FloatType(), True),\n",
    "    StructField(\"logged_in\", FloatType(), True),\n",
    "    StructField(\"num_compromised\", FloatType(), True),\n",
    "    StructField(\"root_shell\", FloatType(), True),\n",
    "    StructField(\"su_attempted\", FloatType(), True),\n",
    "    StructField(\"num_root\", FloatType(), True),\n",
    "    StructField(\"num_file_creations\", FloatType(), True),\n",
    "    StructField(\"num_shells\", FloatType(), True),\n",
    "    StructField(\"num_access_files\", FloatType(), True),\n",
    "    StructField(\"num_outbound_cmds\", FloatType(), True),\n",
    "    StructField(\"is_host_login\", FloatType(), True),\n",
    "    StructField(\"is_guest_login\", FloatType(), True),\n",
    "    StructField(\"count\", FloatType(), True),\n",
    "    StructField(\"srv_count\", FloatType(), True),\n",
    "    StructField(\"serror_rate\", FloatType(), True),\n",
    "    StructField(\"srv_serror_rate\", FloatType(), True),\n",
    "    StructField(\"rerror_rate\", FloatType(), True),\n",
    "    StructField(\"srv_rerror_rate\", FloatType(), True),\n",
    "    StructField(\"same_srv_rate\", FloatType(), True),\n",
    "    StructField(\"diff_srv_rate\", FloatType(), True),\n",
    "    StructField(\"srv_diff_host_rate\", FloatType(), True),\n",
    "    StructField(\"dst_host_count\", FloatType(), True),\n",
    "    StructField(\"dst_host_srv_count\", FloatType(), True),\n",
    "    StructField(\"dst_host_same_srv_rate\", FloatType(), True),\n",
    "    StructField(\"dst_host_diff_srv_rate\", FloatType(), True),\n",
    "    StructField(\"dst_host_same_src_port_rate\", FloatType(), True),\n",
    "    StructField(\"dst_host_srv_diff_host_rate\", FloatType(), True),\n",
    "    StructField(\"dst_host_serror_rate\", FloatType(), True),\n",
    "    StructField(\"dst_host_srv_serror_rate\", FloatType(), True),\n",
    "    StructField(\"dst_host_rerror_rate\", FloatType(), True),\n",
    "    StructField(\"dst_host_srv_rerror_rate\", FloatType(), True),\n",
    "    \n",
    "    # The label (Anomaly,Normal)\n",
    "    \n",
    "    StructField(\"status\", StringType(), True)\n",
    "])\n",
    "\n",
    "print(schema)"
   ]
  },
  {
   "cell_type": "code",
   "execution_count": 38,
   "id": "53c955f8-fb0c-4982-9df4-02ea0f8c5dc7",
   "metadata": {},
   "outputs": [],
   "source": [
    "iris_data = spark.readStream \\\n",
    "                .format(\"csv\")\\\n",
    "                .option(\"header\", True)\\\n",
    "                .option(\"sep\", \",\")\\\n",
    "                .schema(schema)\\\n",
    "                .load(\"./data\")"
   ]
  },
  {
   "cell_type": "code",
   "execution_count": 39,
   "id": "679d8d72-31ea-4d2d-a73f-66ff7f67e887",
   "metadata": {},
   "outputs": [
    {
     "name": "stdout",
     "output_type": "stream",
     "text": [
      "root\n",
      " |-- duration: float (nullable = true)\n",
      " |-- src_bytes: float (nullable = true)\n",
      " |-- dst_bytes: float (nullable = true)\n",
      " |-- land: float (nullable = true)\n",
      " |-- wrong_fragment: float (nullable = true)\n",
      " |-- urgent: float (nullable = true)\n",
      " |-- hot: float (nullable = true)\n",
      " |-- num_failed_logins: float (nullable = true)\n",
      " |-- logged_in: float (nullable = true)\n",
      " |-- num_compromised: float (nullable = true)\n",
      " |-- root_shell: float (nullable = true)\n",
      " |-- su_attempted: float (nullable = true)\n",
      " |-- num_root: float (nullable = true)\n",
      " |-- num_file_creations: float (nullable = true)\n",
      " |-- num_shells: float (nullable = true)\n",
      " |-- num_access_files: float (nullable = true)\n",
      " |-- num_outbound_cmds: float (nullable = true)\n",
      " |-- is_host_login: float (nullable = true)\n",
      " |-- is_guest_login: float (nullable = true)\n",
      " |-- count: float (nullable = true)\n",
      " |-- srv_count: float (nullable = true)\n",
      " |-- serror_rate: float (nullable = true)\n",
      " |-- srv_serror_rate: float (nullable = true)\n",
      " |-- rerror_rate: float (nullable = true)\n",
      " |-- srv_rerror_rate: float (nullable = true)\n",
      " |-- same_srv_rate: float (nullable = true)\n",
      " |-- diff_srv_rate: float (nullable = true)\n",
      " |-- srv_diff_host_rate: float (nullable = true)\n",
      " |-- dst_host_count: float (nullable = true)\n",
      " |-- dst_host_srv_count: float (nullable = true)\n",
      " |-- dst_host_same_srv_rate: float (nullable = true)\n",
      " |-- dst_host_diff_srv_rate: float (nullable = true)\n",
      " |-- dst_host_same_src_port_rate: float (nullable = true)\n",
      " |-- dst_host_srv_diff_host_rate: float (nullable = true)\n",
      " |-- dst_host_serror_rate: float (nullable = true)\n",
      " |-- dst_host_srv_serror_rate: float (nullable = true)\n",
      " |-- dst_host_rerror_rate: float (nullable = true)\n",
      " |-- dst_host_srv_rerror_rate: float (nullable = true)\n",
      " |-- status: string (nullable = true)\n",
      "\n"
     ]
    }
   ],
   "source": [
    "iris_data.printSchema()"
   ]
  },
  {
   "cell_type": "code",
   "execution_count": 40,
   "id": "3b7d0ef5-5f93-4cbf-8d5d-31788c2bc03c",
   "metadata": {},
   "outputs": [],
   "source": [
    "features_array = iris_data.selectExpr(\"\"\"array(\n",
    "CAST(duration AS FLOAT),\n",
    "CAST(src_bytes AS FLOAT), \n",
    "CAST(dst_bytes AS FLOAT), \n",
    "CAST(land AS FLOAT),\n",
    "CAST(wrong_fragment AS FLOAT), \n",
    "CAST(urgent AS FLOAT), \n",
    "CAST(hot AS FLOAT), \n",
    "CAST(num_failed_logins AS FLOAT), \n",
    "CAST(logged_in AS FLOAT),\n",
    "CAST(num_compromised AS FLOAT), \n",
    "CAST(root_shell AS FLOAT),\n",
    "CAST(su_attempted AS FLOAT), \n",
    "CAST(num_root AS FLOAT),\n",
    "CAST(num_file_creations AS FLOAT), \n",
    "CAST(num_shells  AS FLOAT), \n",
    "CAST(num_access_files  AS FLOAT),\n",
    "CAST(num_outbound_cmds  AS FLOAT), \n",
    "CAST(is_host_login  AS FLOAT),\n",
    "CAST(is_guest_login  AS FLOAT), \n",
    "CAST(count AS FLOAT), \n",
    "CAST(srv_count AS FLOAT),\n",
    "CAST(serror_rate AS FLOAT), \n",
    "CAST(srv_serror_rate AS FLOAT),\n",
    "CAST(rerror_rate AS FLOAT), \n",
    "CAST(srv_rerror_rate AS FLOAT),\n",
    "CAST(same_srv_rate AS FLOAT),\n",
    "CAST(diff_srv_rate AS FLOAT), \n",
    "CAST(srv_diff_host_rate AS FLOAT),\n",
    "CAST(dst_host_count AS FLOAT),\n",
    "CAST(dst_host_srv_count AS FLOAT), \n",
    "CAST(dst_host_same_srv_rate AS FLOAT),\n",
    "CAST(dst_host_diff_srv_rate AS FLOAT),\n",
    "CAST(dst_host_same_src_port_rate AS FLOAT),\n",
    "CAST(dst_host_srv_diff_host_rate AS FLOAT), \n",
    "CAST(dst_host_serror_rate AS FLOAT),\n",
    "CAST(dst_host_srv_serror_rate AS FLOAT),\n",
    "CAST(dst_host_rerror_rate AS FLOAT), \n",
    "CAST(dst_host_srv_rerror_rate AS FLOAT)\n",
    "\n",
    ") as arr\"\"\", \n",
    "\"status\")"
   ]
  },
  {
   "cell_type": "code",
   "execution_count": 41,
   "id": "2147b7c3-4b12-456f-99b0-5547517dfc24",
   "metadata": {},
   "outputs": [
    {
     "name": "stdout",
     "output_type": "stream",
     "text": [
      "DataFrame[arr: array<float>, status: string, features: vector]\n"
     ]
    }
   ],
   "source": [
    "tovec_udf = funcs.udf(lambda r: Vectors.dense(r), VectorUDT())\n",
    "data_stream = features_array.withColumn(\"features\", tovec_udf(\"arr\"))\n",
    "\n",
    "print(data_stream)"
   ]
  },
  {
   "cell_type": "code",
   "execution_count": 42,
   "id": "d15b41c5-7522-40a0-98fc-e94edfa96425",
   "metadata": {},
   "outputs": [],
   "source": [
    "prediction = modelrf.transform(data_stream)"
   ]
  },
  {
   "cell_type": "code",
   "execution_count": 43,
   "id": "4bf5c1e5-155b-4ba6-8c88-fd1f2e25b8b5",
   "metadata": {},
   "outputs": [
    {
     "data": {
      "text/plain": [
       "pyspark.sql.dataframe.DataFrame"
      ]
     },
     "execution_count": 43,
     "metadata": {},
     "output_type": "execute_result"
    }
   ],
   "source": [
    "type(prediction)"
   ]
  },
  {
   "cell_type": "code",
   "execution_count": 44,
   "id": "31bf3843-48f3-4a37-953a-d1db702791d6",
   "metadata": {},
   "outputs": [
    {
     "name": "stdout",
     "output_type": "stream",
     "text": [
      "root\n",
      " |-- arr: array (nullable = false)\n",
      " |    |-- element: float (containsNull = true)\n",
      " |-- status: string (nullable = true)\n",
      " |-- features: vector (nullable = true)\n",
      " |-- rawPrediction: vector (nullable = true)\n",
      " |-- probability: vector (nullable = true)\n",
      " |-- prediction: double (nullable = false)\n",
      "\n"
     ]
    }
   ],
   "source": [
    "prediction.printSchema()"
   ]
  },
  {
   "cell_type": "code",
   "execution_count": 45,
   "id": "bc33bc21-de4c-4cbd-ab4e-fcb47b93c419",
   "metadata": {},
   "outputs": [],
   "source": [
    "currentTimeDf = prediction.withColumn(\"processingTime\",funcs.current_timestamp())"
   ]
  },
  {
   "cell_type": "code",
   "execution_count": 46,
   "id": "4589d5a7-91a4-4d3f-8399-9fed3ed170ad",
   "metadata": {},
   "outputs": [
    {
     "name": "stdout",
     "output_type": "stream",
     "text": [
      "DataFrame[window: struct<start:timestamp,end:timestamp>, status: string, prediction: string, count: bigint]\n"
     ]
    }
   ],
   "source": [
    "confusion_matrix = currentTimeDf\\\n",
    ".withWatermark(\"processingTime\", \"5 seconds\")\\\n",
    ".groupBy(funcs.window(\"processingTime\", \"3 seconds\", \"1 seconds\"),\"status\", \"prediction\")\\\n",
    ".count()\\\n",
    ".withColumn(\"prediction\",funcs.when(funcs.col(\"prediction\").isin(1.0), \"anomaly\")\\\n",
    ".otherwise(\"normal\"))\\\n",
    ".orderBy(\"window\")\n",
    "\n",
    "print(confusion_matrix)"
   ]
  },
  {
   "cell_type": "code",
   "execution_count": 47,
   "id": "483fb09f-a65f-4b0d-be5b-fc83055d885c",
   "metadata": {},
   "outputs": [],
   "source": [
    "q = confusion_matrix.writeStream\\\n",
    ".outputMode(\"complete\")\\\n",
    ".format(\"console\")\\\n",
    ".option(\"truncate\", \"false\")\\\n",
    ".start()"
   ]
  },
  {
   "cell_type": "code",
   "execution_count": 48,
   "id": "e0983ad2-cffb-4777-8e20-df17432fc0ae",
   "metadata": {},
   "outputs": [],
   "source": [
    "prediction = prediction.select(\"features\",\"status\",\"prediction\")"
   ]
  },
  {
   "cell_type": "code",
   "execution_count": 51,
   "id": "fbfefa58-54ad-4da4-bc87-7cd9df0207fe",
   "metadata": {},
   "outputs": [],
   "source": [
    "q = prediction.writeStream\\\n",
    ".outputMode(\"append\")\\\n",
    ".format(\"console\")\\\n",
    ".start()"
   ]
  },
  {
   "cell_type": "code",
   "execution_count": null,
   "id": "dc39c456-7955-4fea-b58a-ec1d7eb73a64",
   "metadata": {},
   "outputs": [],
   "source": []
  }
 ],
 "metadata": {
  "kernelspec": {
   "display_name": "Python 3 (ipykernel)",
   "language": "python",
   "name": "python3"
  },
  "language_info": {
   "codemirror_mode": {
    "name": "ipython",
    "version": 3
   },
   "file_extension": ".py",
   "mimetype": "text/x-python",
   "name": "python",
   "nbconvert_exporter": "python",
   "pygments_lexer": "ipython3",
   "version": "3.11.6"
  }
 },
 "nbformat": 4,
 "nbformat_minor": 5
}
